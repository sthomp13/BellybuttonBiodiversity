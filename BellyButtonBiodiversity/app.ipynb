{
 "cells": [
  {
   "cell_type": "code",
   "execution_count": 1,
   "metadata": {
    "collapsed": true
   },
   "outputs": [],
   "source": [
    "# Import SQL Alchemy `automap`, Flask, custom function and other dependencies. \n",
    "from sqlalchemy import create_engine, MetaData, desc\n",
    "from sqlalchemy.ext.automap import automap_base\n",
    "from sqlalchemy.orm import Session\n",
    "from flask import Flask, jsonify, render_template\n",
    "\n",
    "# Import and establish Base for which classes will be constructed \n",
    "from sqlalchemy.ext.declarative import declarative_base\n",
    "Base = declarative_base()\n",
    "\n",
    "# Import modules to declare columns and column data types\n",
    "from sqlalchemy import Column, Integer, String, Float, inspect\n",
    "\n",
    "import numpy as np\n",
    "\n",
    "#import custom functions\n",
    "from bbd import return_sample_names"
   ]
  },
  {
   "cell_type": "code",
   "execution_count": 2,
   "metadata": {
    "collapsed": true
   },
   "outputs": [],
   "source": [
    "app = Flask(__name__)\n",
    "\n",
    "# Create a connection to a SQLite database\n",
    "engine = create_engine('sqlite:///Datasets/belly_button_biodiversity.sqlite', echo=False)\n"
   ]
  },
  {
   "cell_type": "code",
   "execution_count": 3,
   "metadata": {
    "collapsed": true
   },
   "outputs": [],
   "source": [
    "# Create a connection to the engine called `conn`\n",
    "conn = engine.connect()"
   ]
  },
  {
   "cell_type": "code",
   "execution_count": 4,
   "metadata": {
    "collapsed": true
   },
   "outputs": [],
   "source": [
    "# reflect an existing database into a new model\n",
    "Base = automap_base()\n",
    "# reflect the tables\n",
    "Base.prepare(engine, reflect=True)"
   ]
  },
  {
   "cell_type": "code",
   "execution_count": 5,
   "metadata": {
    "collapsed": true
   },
   "outputs": [],
   "source": [
    "# Otu = Base.classes.otu\n",
    "# Samples = Base.classes.samples\n",
    "# Samples_metadata = Base.classes.samples_metadata\n",
    "\n",
    "# Save references to the table\n",
    "# Samples_Metadata = Base.classes.samples_metadata\n",
    "# Otu = Base.classes.otu\n",
    "# Samples = Base.classes.samples\n",
    "\n",
    "Otu = Base.classes.otu\n",
    "Samples = Base.classes.samples\n",
    "Samples_metadata = Base.classes.samples_metadata"
   ]
  },
  {
   "cell_type": "code",
   "execution_count": 6,
   "metadata": {
    "collapsed": true
   },
   "outputs": [],
   "source": [
    "#create session (link) from Python to the DB\n",
    "session = Session(engine)"
   ]
  },
  {
   "cell_type": "code",
   "execution_count": 7,
   "metadata": {
    "collapsed": true
   },
   "outputs": [],
   "source": [
    "@app.route(\"/\")\n",
    "def home():\n",
    "    return render_template(\"index.html\")\n",
    "#     return(\n",
    "#     f\"Available Routes:<br/>\"\n",
    "#     f\"/names<br/>\"\n",
    "#     f\"/otu<br/>\"\n",
    "#     f\"/otu_descriptions<br/>\"\n",
    "#     f\"/metadata/<sample>\"\n",
    "#     )\n"
   ]
  },
  {
   "cell_type": "code",
   "execution_count": 8,
   "metadata": {
    "collapsed": true
   },
   "outputs": [],
   "source": [
    "@app.route(\"/names\")\n",
    "def names():\n",
    "    sample_names = Samples.__table__.columns\n",
    "    sample_names_ls = [name.key for name in sample_names]\n",
    "    sample_names_ls.remove(\"otu_id\")\n",
    "    return jsonify(sample_names_ls)"
   ]
  },
  {
   "cell_type": "code",
   "execution_count": 9,
   "metadata": {
    "collapsed": true
   },
   "outputs": [],
   "source": [
    "@app.route(\"/otu\")\n",
    "def otu():\n",
    "    otu_descriptions = session.query(Otu.lowest_taxonomic_unit_found).all()\n",
    "    otu_descriptions_list = [x for (x), in otu_descriptions]\n",
    "    return jsonify(otu_descriptions_list)"
   ]
  },
  {
   "cell_type": "code",
   "execution_count": 10,
   "metadata": {
    "collapsed": true
   },
   "outputs": [],
   "source": [
    "@app.route(\"/otu_descriptions\")\n",
    "def otu_disc():\n",
    "    otu_descriptions = session.query(Otu.otu_id, Otu.lowest_taxonomic_unit_found).all()\n",
    "    otu_dict = {}\n",
    "    for row in otu_descriptions:\n",
    "        otu_dict[row[0]] = row[1]\n",
    "    return jsonify(otu_dict)"
   ]
  },
  {
   "cell_type": "code",
   "execution_count": 11,
   "metadata": {
    "collapsed": true
   },
   "outputs": [],
   "source": [
    "@app.route(\"/metadata/<sample>\")\n",
    "def sample_query(sample):\n",
    "    sample_name = sample.replace(\"BB_\", \"\")\n",
    "    result = session.query(Samples_metadata.AGE, Samples_metadata.BBTYPE, Samples_metadata.ETHNICITY, Samples_metadata.GENDER, Samples_metadata.LOCATION, Samples_metadata.SAMPLEID).filter_by(SAMPLEID = sample_name).all()\n",
    "    record = result[0]\n",
    "    record_dict = {\n",
    "        \"AGE\": record[0],\n",
    "        \"BBTYPE\": record[1],\n",
    "        \"ETHNICITY\": record[2],\n",
    "        \"GENDER\": record[3],\n",
    "        \"LOCATION\": record[4],\n",
    "        \"SAMPLEID\": record[5]\n",
    "    }\n",
    "    return jsonify(record_dict)"
   ]
  },
  {
   "cell_type": "code",
   "execution_count": 12,
   "metadata": {
    "collapsed": true
   },
   "outputs": [],
   "source": [
    "@app.route('/wfreq/<sample>')\n",
    "def wash_freq(sample):\n",
    "    sample_name = sample.replace(\"BB_\", \"\")\n",
    "    result = session.query(Samples_metadata.WFREQ).filter_by(SAMPLEID = sample_name).all()\n",
    "    wash_freq = result[0][0]\n",
    "    return jsonify(wash_freq)"
   ]
  },
  {
   "cell_type": "code",
   "execution_count": null,
   "metadata": {
    "collapsed": true
   },
   "outputs": [],
   "source": [
    "@app.route('/samples/<sample>')\n",
    "def get_sample_value(sample):\n",
    "    otu_ids =[]\n",
    "    sample_values = []\n",
    "    samples_result = {}\n",
    "    \n",
    "    my_query = \"Samples.\" + sample  #eg. 'Samples.BB_940'\n",
    "    query_result = session.query(Samples.otu_id, my_query).order_by(desc(my_query))\n",
    "    \n",
    "    for result in query_result:\n",
    "        otu_ids.append(result[0])\n",
    "        sample_values.append(result[1])\n",
    "        \n",
    "    # Add the above lists to the dictionary\n",
    "    samples_result = {\n",
    "        \"otu_ids\": otu_ids,\n",
    "        \"sample_values\": sample_values\n",
    "    }\n",
    "    return jsonify(samples_result)"
   ]
  },
  {
   "cell_type": "code",
   "execution_count": null,
   "metadata": {},
   "outputs": [
    {
     "name": "stderr",
     "output_type": "stream",
     "text": [
      " * Running on http://127.0.0.1:5000/ (Press CTRL+C to quit)\n",
      "127.0.0.1 - - [13/Jul/2018 19:14:03] \"GET / HTTP/1.1\" 200 -\n",
      "127.0.0.1 - - [13/Jul/2018 19:14:03] \"GET /static/index.js HTTP/1.1\" 200 -\n",
      "127.0.0.1 - - [13/Jul/2018 19:14:04] \"GET /metadata/BB_940 HTTP/1.1\" 200 -\n",
      "127.0.0.1 - - [13/Jul/2018 19:14:04] \"GET /samples/BB_940 HTTP/1.1\" 200 -\n",
      "127.0.0.1 - - [13/Jul/2018 19:14:04] \"GET /names HTTP/1.1\" 200 -\n",
      "127.0.0.1 - - [13/Jul/2018 19:14:05] \"GET /samples/BB_940 HTTP/1.1\" 200 -\n",
      "127.0.0.1 - - [13/Jul/2018 19:14:09] \"GET /favicon.ico HTTP/1.1\" 404 -\n",
      "127.0.0.1 - - [13/Jul/2018 19:14:40] \"GET / HTTP/1.1\" 200 -\n",
      "127.0.0.1 - - [13/Jul/2018 19:14:42] \"GET /metadata/BB_940 HTTP/1.1\" 200 -\n",
      "127.0.0.1 - - [13/Jul/2018 19:14:42] \"GET /samples/BB_940 HTTP/1.1\" 200 -\n",
      "127.0.0.1 - - [13/Jul/2018 19:14:42] \"GET /names HTTP/1.1\" 200 -\n",
      "127.0.0.1 - - [13/Jul/2018 19:14:42] \"GET /samples/BB_940 HTTP/1.1\" 200 -\n"
     ]
    }
   ],
   "source": [
    "if __name__ == '__main__':\n",
    "    app.run(debug=False)\n",
    "    #changed from True to False to work in Jupyter Notebook"
   ]
  },
  {
   "cell_type": "code",
   "execution_count": null,
   "metadata": {
    "collapsed": true
   },
   "outputs": [],
   "source": [
    "# app = QApplication(sys.argv)\n",
    "# app.aboutToQuit.connect(app.deleteLater)"
   ]
  }
 ],
 "metadata": {
  "kernelspec": {
   "display_name": "Python 3",
   "language": "python",
   "name": "python3"
  },
  "language_info": {
   "codemirror_mode": {
    "name": "ipython",
    "version": 3
   },
   "file_extension": ".py",
   "mimetype": "text/x-python",
   "name": "python",
   "nbconvert_exporter": "python",
   "pygments_lexer": "ipython3",
   "version": "3.6.3"
  }
 },
 "nbformat": 4,
 "nbformat_minor": 2
}
